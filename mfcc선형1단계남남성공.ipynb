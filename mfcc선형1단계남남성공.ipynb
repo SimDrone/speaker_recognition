{
 "cells": [
  {
   "cell_type": "code",
   "execution_count": null,
   "id": "1dd65f79",
   "metadata": {},
   "outputs": [],
   "source": [
    "mfcc로지스틱회귀모형(선형)의 1단계인 남성, 남성 샘플 각 100개씩 학습하여 테스트 (누군지 맞히는 것, 각자 50개씩) 맞추는 코드 작성.\n",
    "성공률 : 1.0\n",
    "맞힌 갯수 : 100/100"
   ]
  },
  {
   "cell_type": "code",
   "execution_count": null,
   "id": "b816f69c",
   "metadata": {},
   "outputs": [],
   "source": [
    "아래는 mfcc를 시각화한 그래프를 보이기 위함입니다."
   ]
  },
  {
   "cell_type": "code",
   "execution_count": 1,
   "id": "7e8a32b5",
   "metadata": {},
   "outputs": [
    {
     "name": "stdout",
     "output_type": "stream",
     "text": [
      "[ 0.0000000e+00  0.0000000e+00  0.0000000e+00 ... -4.5776367e-04\n",
      " -1.8310547e-04 -9.1552734e-05] (36855,)\n"
     ]
    },
    {
     "data": {
      "image/png": "[encoded data removed]",
      "text/plain": [
       "<Figure size 1080x720 with 2 Axes>"
      ]
     },
     "metadata": {
      "needs_background": "light"
     },
     "output_type": "display_data"
    }
   ],
   "source": [
    "import numpy as np\n",
    "import librosa, librosa.display\n",
    "import matplotlib.pyplot as plt\n",
    "\n",
    "#아래 두 라이브러리는 sr 추출에 필요\n",
    "import os\n",
    "import wave\n",
    "\n",
    "file=r\"C:\\Users\\J\\Desktop\\\\voice1.wav\" #파일 불러오기\n",
    "\n",
    "#아래는 sr(sampling rate, 샘플링 레이트) 추출\n",
    "#생플링 레이트란 단위시간(주로 초)당 샘플링 횟수, 초당 샘플의 빈도. sr=16000Hz는 초당 16000개로 등분하여 샘플을 추출한다는 뜻.\n",
    "\n",
    "for file_name in os.listdir(\"C:/Users/J/Desktop/voiceData/voicefile/voicefile/voice1\"):\n",
    "    with wave.open(\"C:/Users/J/Desktop/voiceData/voicefile/voicefile/voice1/voice1.wav\", \"rb\") as wave_file:\n",
    "        frame_rate = wave_file.getframerate()\n",
    "        sr = frame_rate\n",
    "\n",
    "sig, sr = librosa.load(file, sr) #추출한 sr을 적용해준다\n",
    "\n",
    "FIG_SIZE=(15,10) #plot 크기\n",
    "print(sig,sig.shape) #wav 파일의 벡터 개수를 알 수 있음(괄호 안 숫자)\n",
    "\n",
    "hop_length = 512  # 전체 frame 수 / hop_length는 음성의 magnitude를 얼만큼 겹친 상태로 잘라서 칸으로 보여줄 것인가. n_fft의 영향받음.\n",
    "# magnitude : 파동의 높이(peak의 높이), 해당 주파수의 파형의 세기\n",
    "n_fft = 512 # frame 하나당 sample 수. 음성은 default = 512. 음성을 얼마의 크기로 자르게 될지 결정. n_fft와 모형의 정확도 관계성을 살피기 위해 변경해가며 실험할 것.\n",
    "\n",
    "#extract 13 MFCCs\n",
    "MFCCs = librosa.feature.mfcc(sig, sr,hop_length=hop_length, n_fft=n_fft, n_mfcc=20)\n",
    "#n_mfcc란 mfcc 계수. 보통 20~25, 일반적으로 20. 상황에 따라 변동.\n",
    "\n",
    "#display MFCCs\n",
    "plt.figure(figsize=FIG_SIZE)\n",
    "librosa.display.specshow(MFCCs, sr=sr, hop_length=hop_length)\n",
    "plt.xlabel(\"Time\")\n",
    "plt.ylabel(\"MFCC coefficients\")\n",
    "#coefficient : 계수\n",
    "plt.colorbar()\n",
    "plt.title(\"MFCCs\")\n",
    "\n",
    "#show plots\n",
    "plt.show()\n"
   ]
  },
  {
   "cell_type": "code",
   "execution_count": null,
   "id": "928fc019",
   "metadata": {},
   "outputs": [],
   "source": [
    "아래는 logistic regression classifier를 사용해 분류하는 것입니다.\n",
    "트레이닝 데이터 200개, 테스트 데이터 100개\n",
    "데이터셋(wav파일)으로부터 mfcc를 추출해내 차원을 20으로 두고 평균값을 구해 배열의\n",
    "형태로 두는 것까지는 성공하였지만, 모델 적용 과정에서 배열 차원 오류로 인해 \n",
    "완성되지는 않은 상태입니다.\n",
    "(성공함)"
   ]
  },
  {
   "cell_type": "code",
   "execution_count": 2,
   "id": "fe44882e",
   "metadata": {},
   "outputs": [
    {
     "name": "stdout",
     "output_type": "stream",
     "text": [
      "[[-377.214        99.431015    -10.501879   ...   -3.483969\n",
      "    -5.4712124    -3.4806004 ]\n",
      " [-379.52893     107.74267      12.46107    ...   -8.357255\n",
      "    -8.841305      0.42802945]\n",
      " [-412.39905      97.28981     -22.560478   ...   -3.0607436\n",
      "    -5.3249974    -3.8749504 ]\n",
      " ...\n",
      " [-332.9277      128.71512     -34.99387    ...  -10.442289\n",
      "    -7.05258       3.5595987 ]\n",
      " [-349.8763      130.91275     -23.221342   ...   -9.563682\n",
      "    -6.903944      2.092808  ]\n",
      " [-321.75912     138.20381     -28.645212   ...   -5.531375\n",
      "    -5.643883     -5.5729303 ]]\n",
      "(200, 20)\n",
      "4000\n",
      "2\n",
      "(200,)\n"
     ]
    }
   ],
   "source": [
    "#train final\n",
    "from imutils import paths\n",
    "import os\n",
    "import librosa\n",
    "import numpy as np\n",
    "\n",
    "def getMFCC(filepath):\n",
    "    y, sr = librosa.load(filepath)\n",
    "    mfcc=librosa.feature.mfcc(y=y, sr=16000, n_mfcc=20)\n",
    "    return mfcc\n",
    "\n",
    "\n",
    "folder = ('C:/Users/J/Desktop/X_train')\n",
    "files = paths.list_files(folder)\n",
    "\n",
    "j=0\n",
    "for i in files:\n",
    "    if j==0:\n",
    "        mfcc=getMFCC(i)\n",
    "        mfcc=np.mean(mfcc, axis=1)\n",
    "        X_train=np.array([mfcc])\n",
    "        j=j+1\n",
    "    else:\n",
    "        mfcc=getMFCC(i)\n",
    "        mfcc=np.mean(mfcc, axis=1)\n",
    "        X_train = np.append(X_train, [mfcc], axis=0)\n",
    "\n",
    "\n",
    "Y_train=np.array([1])\n",
    "\n",
    "for j in range (0,99):\n",
    "    Y_train=np.append(Y_train, [1],axis=0)\n",
    "    \n",
    "for j in range (0,100):\n",
    "    Y_train=np.append(Y_train,[0],axis=0)\n",
    "\n",
    "        \n",
    "print(X_train)\n",
    "print(X_train.shape)\n",
    "print(X_train.size)\n",
    "print(X_train.ndim)\n",
    "print(Y_train.shape) "
   ]
  },
  {
   "cell_type": "code",
   "execution_count": 3,
   "id": "6a604577",
   "metadata": {},
   "outputs": [
    {
     "name": "stdout",
     "output_type": "stream",
     "text": [
      "[[-415.6559     102.1274     -16.366665  ...   -3.855424    -7.5118284\n",
      "    -2.5794702]\n",
      " [-427.85425    101.63358    -15.61338   ...   -3.5714467   -5.772785\n",
      "    -3.688937 ]\n",
      " [-422.83914     91.2591     -21.701029  ...   -2.7305717   -6.2181253\n",
      "    -8.261889 ]\n",
      " ...\n",
      " [-404.02975    114.50648    -14.90785   ...   -8.089381    -6.0215526\n",
      "    -3.1800544]\n",
      " [-376.3712     125.9638     -18.81046   ...   -9.126996    -8.237053\n",
      "     1.1444468]\n",
      " [-393.59848    120.050545   -18.048943  ...   -9.342834    -2.7308817\n",
      "    -1.8048611]]\n",
      "(100, 20)\n",
      "2000\n",
      "2\n",
      "(100,)\n"
     ]
    }
   ],
   "source": [
    "#test final\n",
    "from imutils import paths\n",
    "import os\n",
    "import librosa\n",
    "import numpy as np\n",
    "\n",
    "def getMFCC(filepath):\n",
    "    y, sr = librosa.load(filepath)\n",
    "    mfcc=librosa.feature.mfcc(y=y, sr=16000, n_mfcc=20)\n",
    "    return mfcc\n",
    "\n",
    "\n",
    "folder = ('C:/Users/J/Desktop/X_test')\n",
    "files = paths.list_files(folder)\n",
    "\n",
    "j=0\n",
    "for i in files:\n",
    "    if j==0:\n",
    "        mfcc=getMFCC(i)\n",
    "        mfcc=np.mean(mfcc, axis=1)\n",
    "        X_test=np.array([mfcc])\n",
    "        j=j+1\n",
    "    else:\n",
    "        mfcc=getMFCC(i)\n",
    "        mfcc=np.mean(mfcc, axis=1)\n",
    "        X_test = np.append(X_test, [mfcc], axis=0)\n",
    "\n",
    "        \n",
    "\n",
    "Y_test=np.array([1])\n",
    "\n",
    "for j in range (0,49):\n",
    "    Y_test=np.append(Y_test, [1],axis=0)\n",
    "    \n",
    "for j in range (0,50):\n",
    "    Y_test=np.append(Y_test,[0],axis=0)\n",
    "\n",
    "        \n",
    "print(X_test)\n",
    "print(X_test.shape)\n",
    "print(X_test.size)\n",
    "print(X_test.ndim)\n",
    "print(Y_test.shape)"
   ]
  },
  {
   "cell_type": "code",
   "execution_count": 10,
   "id": "5f8597a7",
   "metadata": {},
   "outputs": [
    {
     "name": "stdout",
     "output_type": "stream",
     "text": [
      "[1 1 1 1 1 1 1 1 1 1 1 1 1 1 1 1 1 1 1 1 1 1 1 1 1 1 1 1 1 1 1 1 1 1 1 1 1\n",
      " 1 1 1 1 1 1 1 1 1 1 1 1 1 0 0 0 0 0 0 0 0 0 0 0 0 0 0 0 0 0 0 0 0 0 0 0 0\n",
      " 0 0 0 0 0 0 0 0 0 0 0 0 0 0 0 0 0 0 0 0 0 0 0 0 0 0]\n",
      "1.0\n"
     ]
    }
   ],
   "source": [
    "from sklearn import linear_model\n",
    "logreg = linear_model.LogisticRegression(max_iter=500)\n",
    "logreg.fit(X_train,Y_train)\n",
    "y_test_estimated = logreg.predict(X_test)\n",
    " \n",
    "print (y_test_estimated)\n",
    "\n",
    "print(logreg.score(X_train, Y_train))"
   ]
  },
  {
   "cell_type": "code",
   "execution_count": null,
   "id": "89b2286a",
   "metadata": {},
   "outputs": [],
   "source": []
  }
 ],
 "metadata": {
  "kernelspec": {
   "display_name": "Python 3",
   "language": "python",
   "name": "python3"
  },
  "language_info": {
   "codemirror_mode": {
    "name": "ipython",
    "version": 3
   },
   "file_extension": ".py",
   "mimetype": "text/x-python",
   "name": "python",
   "nbconvert_exporter": "python",
   "pygments_lexer": "ipython3",
   "version": "3.8.8"
  }
 },
 "nbformat": 4,
 "nbformat_minor": 5
}
