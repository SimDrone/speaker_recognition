{
 "cells": [
  {
   "cell_type": "code",
   "execution_count": null,
   "id": "54cbd8a6",
   "metadata": {},
   "outputs": [],
   "source": [
    "mfcc로지스틱회귀모형(선형)의 2단계인 남성 / 여성 샘플 각 50명, 명당 5개로 학습하여 테스트 (남, 여 각 20명, 명당 2개) 맞추는 코드 작성.\n",
    "성공률 : 0.914 (왜인지 모르겠음.. 원래는 0.9125 나와야함.)\n",
    "맞힌 갯수 : 73/80 (남성 파일 7개를 여성 파일로 인식하여 틀림, 남성 한명의 경우 둘 다 여성으로 판단하여 틀렸고 나머지 5개는\n",
    "하나는 남성으로, 하나는 여성으로 인식하였음.)"
   ]
  },
  {
   "cell_type": "code",
   "execution_count": 1,
   "id": "79da2721",
   "metadata": {},
   "outputs": [
    {
     "name": "stdout",
     "output_type": "stream",
     "text": [
      "[[-3.25313812e+02  1.12759521e+02  1.18104324e+01 ... -1.42349911e+00\n",
      "  -4.15036440e+00 -5.92486334e+00]\n",
      " [-2.67471802e+02  1.02966202e+02 -2.50208282e+01 ...  2.92648435e-01\n",
      "  -7.76087141e+00 -1.58026333e+01]\n",
      " [-3.48841400e+02  8.09015961e+01 -3.11455708e+01 ... -5.28020477e+00\n",
      "  -5.62018013e+00 -1.91325331e+00]\n",
      " ...\n",
      " [-3.94678314e+02  1.14435791e+02 -1.51594305e+01 ...  4.24660772e-01\n",
      "  -4.93011618e+00 -9.73098949e-02]\n",
      " [-4.26716003e+02  5.44081917e+01 -1.09295578e+01 ...  3.21387529e-01\n",
      "  -1.11712027e+00 -1.96620882e-01]\n",
      " [-3.90714874e+02  7.62489548e+01  4.60011625e+00 ... -3.86829162e+00\n",
      "  -1.48214447e+00 -4.48144674e-01]]\n",
      "(500, 20)\n",
      "10000\n",
      "2\n",
      "(500,)\n"
     ]
    }
   ],
   "source": [
    "#train final\n",
    "from imutils import paths\n",
    "import os\n",
    "import librosa\n",
    "import numpy as np\n",
    "\n",
    "def getMFCC(filepath):\n",
    "    y, sr = librosa.load(filepath)\n",
    "    mfcc=librosa.feature.mfcc(y=y, sr=16000, n_mfcc=20)\n",
    "    return mfcc\n",
    "\n",
    "\n",
    "folder = ('C:/Users/J/Desktop/V2_250_40/X_train')\n",
    "files = paths.list_files(folder)\n",
    "\n",
    "j=0\n",
    "for i in files:\n",
    "    if j==0:\n",
    "        mfcc=getMFCC(i)\n",
    "        mfcc=np.mean(mfcc, axis=1)\n",
    "        X_train=np.array([mfcc])\n",
    "        j=j+1\n",
    "    else:\n",
    "        mfcc=getMFCC(i)\n",
    "        mfcc=np.mean(mfcc, axis=1)\n",
    "        X_train = np.append(X_train, [mfcc], axis=0)\n",
    "\n",
    "\n",
    "Y_train=np.array([1])\n",
    "\n",
    "for j in range (0,249):\n",
    "    Y_train=np.append(Y_train, [1],axis=0)\n",
    "    \n",
    "for j in range (0,250):\n",
    "    Y_train=np.append(Y_train,[0],axis=0)\n",
    "\n",
    "        \n",
    "print(X_train)\n",
    "print(X_train.shape)\n",
    "print(X_train.size)\n",
    "print(X_train.ndim)\n",
    "print(Y_train.shape) "
   ]
  },
  {
   "cell_type": "code",
   "execution_count": 2,
   "id": "adf92c0f",
   "metadata": {},
   "outputs": [
    {
     "name": "stdout",
     "output_type": "stream",
     "text": [
      "[[-4.60424194e+02  5.61294518e+01 -2.02510147e+01 ... -2.84571862e+00\n",
      "  -6.82177353e+00 -3.72994637e+00]\n",
      " [-4.03542816e+02  8.26636810e+01 -4.57927465e+00 ... -3.83922958e+00\n",
      "  -1.05263987e+01 -1.39543033e+00]\n",
      " [-4.40314850e+02  4.53703461e+01 -2.40591011e+01 ... -1.51494396e+00\n",
      "  -7.13573885e+00 -2.14192986e-01]\n",
      " ...\n",
      " [-5.31493408e+02  2.00523758e+01  2.08627319e+00 ... -3.79896092e+00\n",
      "  -3.61785197e+00 -2.49622560e+00]\n",
      " [-5.93540710e+02  8.41174545e+01  1.32308455e+01 ... -4.39406820e-02\n",
      "   1.62677184e-01  1.66945863e+00]\n",
      " [-4.87626740e+02  1.02297752e+02  5.16318178e+00 ... -4.65957928e+00\n",
      "  -1.10821486e-01 -3.57208323e+00]]\n",
      "(80, 20)\n",
      "1600\n",
      "2\n",
      "(80,)\n"
     ]
    }
   ],
   "source": [
    "#test final\n",
    "from imutils import paths\n",
    "import os\n",
    "import librosa\n",
    "import numpy as np\n",
    "\n",
    "def getMFCC(filepath):\n",
    "    y, sr = librosa.load(filepath)\n",
    "    mfcc=librosa.feature.mfcc(y=y, sr=16000, n_mfcc=20)\n",
    "    return mfcc\n",
    "\n",
    "\n",
    "folder = ('C:/Users/J/Desktop/V2_250_40/X_test')\n",
    "files = paths.list_files(folder)\n",
    "\n",
    "j=0\n",
    "for i in files:\n",
    "    if j==0:\n",
    "        mfcc=getMFCC(i)\n",
    "        mfcc=np.mean(mfcc, axis=1)\n",
    "        X_test=np.array([mfcc])\n",
    "        j=j+1\n",
    "    else:\n",
    "        mfcc=getMFCC(i)\n",
    "        mfcc=np.mean(mfcc, axis=1)\n",
    "        X_test = np.append(X_test, [mfcc], axis=0)\n",
    "\n",
    "        \n",
    "\n",
    "Y_test=np.array([1])\n",
    "\n",
    "for j in range (0,39):\n",
    "    Y_test=np.append(Y_test, [1],axis=0)\n",
    "    \n",
    "for j in range (0,40):\n",
    "    Y_test=np.append(Y_test,[0],axis=0)\n",
    "\n",
    "        \n",
    "print(X_test)\n",
    "print(X_test.shape)\n",
    "print(X_test.size)\n",
    "print(X_test.ndim)\n",
    "print(Y_test.shape)"
   ]
  },
  {
   "cell_type": "code",
   "execution_count": 9,
   "id": "77c35d51",
   "metadata": {},
   "outputs": [
    {
     "name": "stdout",
     "output_type": "stream",
     "text": [
      "[1 1 1 1 1 1 1 1 1 1 1 1 1 1 1 1 1 1 1 1 1 1 1 1 1 1 1 1 1 1 1 1 1 1 1 1 1\n",
      " 1 1 1 0 0 0 0 1 0 0 0 1 0 0 0 0 0 1 1 0 0 1 0 0 0 0 0 0 0 0 0 0 0 0 0 0 0\n",
      " 0 1 0 1 0 0]\n",
      "0.914\n"
     ]
    }
   ],
   "source": [
    "from sklearn import linear_model\n",
    "logreg = linear_model.LogisticRegression(max_iter=1000) #max_iter=500에서는 경고메세지 송출, 정확도 하락\n",
    "logreg.fit(X_train,Y_train)\n",
    "y_test_estimated = logreg.predict(X_test)\n",
    " \n",
    "print (y_test_estimated)\n",
    "\n",
    "print(logreg.score(X_train, Y_train))"
   ]
  },
  {
   "cell_type": "code",
   "execution_count": 11,
   "id": "ea0a3603",
   "metadata": {},
   "outputs": [
    {
     "name": "stdout",
     "output_type": "stream",
     "text": [
      "[1 1 1 1 1 1 1 1 1 1 1 1 1 1 1 1 1 1 1 1 1 1 1 1 1 1 1 1 1 1 1 1 1 1 1 1 1\n",
      " 1 1 1 0 0 0 0 0 0 0 0 0 0 0 0 0 0 0 0 0 0 0 0 0 0 0 0 0 0 0 0 0 0 0 0 0 0\n",
      " 0 0 0 0 0 0]\n"
     ]
    }
   ],
   "source": [
    "print(Y_test)"
   ]
  },
  {
   "cell_type": "code",
   "execution_count": null,
   "id": "9fc4c400",
   "metadata": {},
   "outputs": [],
   "source": []
  }
 ],
 "metadata": {
  "kernelspec": {
   "display_name": "Python 3",
   "language": "python",
   "name": "python3"
  },
  "language_info": {
   "codemirror_mode": {
    "name": "ipython",
    "version": 3
   },
   "file_extension": ".py",
   "mimetype": "text/x-python",
   "name": "python",
   "nbconvert_exporter": "python",
   "pygments_lexer": "ipython3",
   "version": "3.8.8"
  }
 },
 "nbformat": 4,
 "nbformat_minor": 5
}
